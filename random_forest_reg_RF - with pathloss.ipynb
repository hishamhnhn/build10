{
 "cells": [
  {
   "cell_type": "markdown",
   "metadata": {
    "colab_type": "text",
    "id": "LeamvpPVXuS_"
   },
   "source": [
    "# Random Forest Regression"
   ]
  },
  {
   "cell_type": "markdown",
   "metadata": {
    "colab_type": "text",
    "id": "O2wvZ7SKXzVC"
   },
   "source": [
    "## Importing the libraries"
   ]
  },
  {
   "cell_type": "code",
   "execution_count": 1,
   "metadata": {
    "colab": {},
    "colab_type": "code",
    "id": "PVmESEFZX4Ig"
   },
   "outputs": [],
   "source": [
    "import numpy as np\n",
    "import matplotlib.pyplot as plt\n",
    "import pandas as pd"
   ]
  },
  {
   "cell_type": "markdown",
   "metadata": {
    "colab_type": "text",
    "id": "zgbK_F8-X7em"
   },
   "source": [
    "## Importing the dataset"
   ]
  },
  {
   "cell_type": "markdown",
   "metadata": {
    "colab": {},
    "colab_type": "code",
    "id": "adBE4tjQX_Bh"
   },
   "source": [
    "dataset = pd.read_csv('powerhfss.csv')\n",
    "X = dataset.iloc[:, 0:1].values\n",
    "y = dataset.iloc[:, 1].values\n",
    "dataset.head(20)"
   ]
  },
  {
   "cell_type": "code",
   "execution_count": 3,
   "metadata": {},
   "outputs": [
    {
     "data": {
      "text/plain": [
       "(246, 1)"
      ]
     },
     "execution_count": 3,
     "metadata": {},
     "output_type": "execute_result"
    }
   ],
   "source": [
    "dataset = pd.read_csv('atmos.csv')\n",
    "X = dataset.iloc[:, 0:1].values\n",
    "y = dataset.iloc[:, 1:2].values\n",
    "dataset.head(20)\n",
    "y.shape"
   ]
  },
  {
   "cell_type": "code",
   "execution_count": 4,
   "metadata": {},
   "outputs": [
    {
     "data": {
      "text/plain": [
       "array([[  10.69110988],\n",
       "       [  11.08000228],\n",
       "       [  11.60089525],\n",
       "       [  12.08453379],\n",
       "       [  12.46044914],\n",
       "       [  12.98004298],\n",
       "       [  13.38431293],\n",
       "       [  13.73089146],\n",
       "       [  14.3766754 ],\n",
       "       [  14.82361701],\n",
       "       [  15.28516385],\n",
       "       [  15.92284289],\n",
       "       [  16.41830976],\n",
       "       [  17.10310326],\n",
       "       [  17.72572841],\n",
       "       [  18.37153229],\n",
       "       [  18.94407522],\n",
       "       [  19.53446127],\n",
       "       [  20.04010773],\n",
       "       [  20.45452711],\n",
       "       [  20.77177702],\n",
       "       [  21.41892362],\n",
       "       [  21.86205952],\n",
       "       [  22.65814149],\n",
       "       [  23.36188527],\n",
       "       [  23.96504388],\n",
       "       [  24.70868964],\n",
       "       [  25.34638441],\n",
       "       [  26.26787836],\n",
       "       [  27.36297991],\n",
       "       [  28.35752555],\n",
       "       [  29.24019105],\n",
       "       [  30.93019196],\n",
       "       [  32.22026352],\n",
       "       [  33.56414284],\n",
       "       [  34.6095149 ],\n",
       "       [  36.42307293],\n",
       "       [  38.13787673],\n",
       "       [  40.34326441],\n",
       "       [  43.11538591],\n",
       "       [  45.84504196],\n",
       "       [  48.50061979],\n",
       "       [  50.53011705],\n",
       "       [  52.1087486 ],\n",
       "       [  52.92187713],\n",
       "       [  53.74819392],\n",
       "       [  54.59045869],\n",
       "       [  55.15997244],\n",
       "       [  56.02019268],\n",
       "       [  56.6035693 ],\n",
       "       [  57.7800131 ],\n",
       "       [  59.58181691],\n",
       "       [  61.12465131],\n",
       "       [  62.38345691],\n",
       "       [  63.34159933],\n",
       "       [  63.66108171],\n",
       "       [  64.63343721],\n",
       "       [  65.2828279 ],\n",
       "       [  65.94426232],\n",
       "       [  66.27563932],\n",
       "       [  66.60744267],\n",
       "       [  67.28167215],\n",
       "       [  67.96525465],\n",
       "       [  68.65450541],\n",
       "       [  69.35074602],\n",
       "       [  70.41589846],\n",
       "       [  71.4974105 ],\n",
       "       [  73.33992482],\n",
       "       [  74.84820445],\n",
       "       [  77.56578135],\n",
       "       [  80.38277514],\n",
       "       [  83.73002035],\n",
       "       [  86.7741116 ],\n",
       "       [  90.85353538],\n",
       "       [ 101.1396098 ],\n",
       "       [ 105.90029311],\n",
       "       [ 109.20267297],\n",
       "       [ 112.61117547],\n",
       "       [ 114.36202993],\n",
       "       [ 116.74760609],\n",
       "       [ 116.76280709],\n",
       "       [ 117.37138102],\n",
       "       [ 117.98093249],\n",
       "       [ 118.59695826],\n",
       "       [ 118.6068849 ],\n",
       "       [ 119.23726718],\n",
       "       [ 121.04948386],\n",
       "       [ 121.64645728],\n",
       "       [ 122.87210211],\n",
       "       [ 124.11009588],\n",
       "       [ 126.65071592],\n",
       "       [ 129.25175795],\n",
       "       [ 135.32310652],\n",
       "       [ 142.41146458],\n",
       "       [ 149.11344448],\n",
       "       [ 155.33717096],\n",
       "       [ 161.82367436],\n",
       "       [ 167.72565742],\n",
       "       [ 173.85421293],\n",
       "       [ 176.55726103],\n",
       "       [ 178.39255466],\n",
       "       [ 179.32067847],\n",
       "       [ 181.18132763],\n",
       "       [ 181.19480755],\n",
       "       [ 182.14259218],\n",
       "       [ 182.15783762],\n",
       "       [ 183.10384827],\n",
       "       [ 185.01751629],\n",
       "       [ 186.87991618],\n",
       "       [ 187.79455626],\n",
       "       [ 190.64873462],\n",
       "       [ 194.54601919],\n",
       "       [ 199.5484063 ],\n",
       "       [ 208.91791669],\n",
       "       [ 219.85919901],\n",
       "       [ 236.15598095],\n",
       "       [ 254.96386486],\n",
       "       [ 271.08306134],\n",
       "       [ 286.75890108],\n",
       "       [ 301.79645491],\n",
       "       [ 314.40459034],\n",
       "       [ 319.28694705],\n",
       "       [ 320.96004187],\n",
       "       [ 324.29035513],\n",
       "       [ 324.35670939],\n",
       "       [ 327.76798565],\n",
       "       [ 331.04884984],\n",
       "       [ 332.67527856],\n",
       "       [ 336.03963724],\n",
       "       [ 339.46327406],\n",
       "       [ 350.02300733],\n",
       "       [ 360.94143223],\n",
       "       [ 366.53963733],\n",
       "       [ 368.43978208],\n",
       "       [ 370.35322134],\n",
       "       [ 374.1890834 ],\n",
       "       [ 376.17785639],\n",
       "       [ 378.15961528],\n",
       "       [ 380.14474385],\n",
       "       [ 380.19777587],\n",
       "       [ 382.28602599],\n",
       "       [ 386.06592369],\n",
       "       [ 387.98429708],\n",
       "       [ 389.91220293],\n",
       "       [ 389.85419035],\n",
       "       [ 393.8077884 ],\n",
       "       [ 397.79038265],\n",
       "       [ 405.96363016],\n",
       "       [ 414.33563461],\n",
       "       [ 420.75024562],\n",
       "       [ 425.1199454 ],\n",
       "       [ 425.18320573],\n",
       "       [ 427.43505668],\n",
       "       [ 429.55100512],\n",
       "       [ 429.51505447],\n",
       "       [ 433.8829669 ],\n",
       "       [ 440.62069109],\n",
       "       [ 440.67396347],\n",
       "       [ 440.71904514],\n",
       "       [ 445.27542574],\n",
       "       [ 447.60454991],\n",
       "       [ 449.96259486],\n",
       "       [ 452.44244584],\n",
       "       [ 456.90752507],\n",
       "       [ 456.80980643],\n",
       "       [ 456.7588311 ],\n",
       "       [ 459.04555529],\n",
       "       [ 461.36088947],\n",
       "       [ 468.45560658],\n",
       "       [ 473.32515191],\n",
       "       [ 478.30758505],\n",
       "       [ 480.65748959],\n",
       "       [ 483.06386038],\n",
       "       [ 490.57443391],\n",
       "       [ 493.13133384],\n",
       "       [ 498.11839116],\n",
       "       [ 508.44759919],\n",
       "       [ 519.00065133],\n",
       "       [ 527.08956907],\n",
       "       [ 538.08958878],\n",
       "       [ 543.73353492],\n",
       "       [ 546.60308435],\n",
       "       [ 549.47755779],\n",
       "       [ 552.39796935],\n",
       "       [ 555.31324527],\n",
       "       [ 558.29063186],\n",
       "       [ 558.5087351 ],\n",
       "       [ 566.91281902],\n",
       "       [ 569.62387001],\n",
       "       [ 572.4330543 ],\n",
       "       [ 575.23469412],\n",
       "       [ 581.02504873],\n",
       "       [ 589.86667575],\n",
       "       [ 598.85955574],\n",
       "       [ 608.03477223],\n",
       "       [ 617.39649454],\n",
       "       [ 620.6490278 ],\n",
       "       [ 627.24642   ],\n",
       "       [ 630.22841113],\n",
       "       [ 630.15808404],\n",
       "       [ 633.31291682],\n",
       "       [ 643.03991818],\n",
       "       [ 659.63582839],\n",
       "       [ 683.63028423],\n",
       "       [ 701.35855796],\n",
       "       [ 715.9089036 ],\n",
       "       [ 727.0261797 ],\n",
       "       [ 734.55621313],\n",
       "       [ 734.63135943],\n",
       "       [ 746.13651186],\n",
       "       [ 746.28918164],\n",
       "       [ 750.25562491],\n",
       "       [ 754.41150931],\n",
       "       [ 754.62902986],\n",
       "       [ 762.48040775],\n",
       "       [ 765.80614276],\n",
       "       [ 769.51126356],\n",
       "       [ 773.29183921],\n",
       "       [ 781.11943529],\n",
       "       [ 793.00595674],\n",
       "       [ 801.04800651],\n",
       "       [ 813.32854603],\n",
       "       [ 830.07829433],\n",
       "       [ 838.69126912],\n",
       "       [ 847.1887452 ],\n",
       "       [ 869.09384551],\n",
       "       [ 891.58191164],\n",
       "       [ 900.77441381],\n",
       "       [ 914.80498344],\n",
       "       [ 914.89856949],\n",
       "       [ 919.79536728],\n",
       "       [ 924.82157483],\n",
       "       [ 929.08001496],\n",
       "       [ 933.72269158],\n",
       "       [ 943.20932397],\n",
       "       [ 962.750232  ],\n",
       "       [ 977.86435686],\n",
       "       [ 978.07353706],\n",
       "       [ 978.34644805],\n",
       "       [ 988.60818657],\n",
       "       [ 993.79783208],\n",
       "       [ 994.01966472],\n",
       "       [ 999.34923473],\n",
       "       [1004.09090145],\n",
       "       [1003.74546535],\n",
       "       [1008.47047662]])"
      ]
     },
     "execution_count": 4,
     "metadata": {},
     "output_type": "execute_result"
    }
   ],
   "source": [
    "X"
   ]
  },
  {
   "cell_type": "code",
   "execution_count": 5,
   "metadata": {},
   "outputs": [
    {
     "data": {
      "text/plain": [
       "array([[4.21655083e-03],\n",
       "       [4.09548943e-03],\n",
       "       [3.97816279e-03],\n",
       "       [3.97919880e-03],\n",
       "       [3.97997599e-03],\n",
       "       [4.09962393e-03],\n",
       "       [4.61137837e-03],\n",
       "       [5.18684609e-03],\n",
       "       [5.34294945e-03],\n",
       "       [5.03923855e-03],\n",
       "       [5.50428833e-03],\n",
       "       [6.01264697e-03],\n",
       "       [6.19299887e-03],\n",
       "       [6.56923880e-03],\n",
       "       [6.96810943e-03],\n",
       "       [8.07172428e-03],\n",
       "       [9.62839769e-03],\n",
       "       [1.14852835e-02],\n",
       "       [1.25448029e-02],\n",
       "       [1.45302402e-02],\n",
       "       [1.83788803e-02],\n",
       "       [2.12890494e-02],\n",
       "       [2.53930986e-02],\n",
       "       [2.77374219e-02],\n",
       "       [2.39551283e-02],\n",
       "       [2.13042994e-02],\n",
       "       [1.68479949e-02],\n",
       "       [1.45501173e-02],\n",
       "       [1.33264355e-02],\n",
       "       [1.33299061e-02],\n",
       "       [1.18556158e-02],\n",
       "       [1.25750550e-02],\n",
       "       [1.37377886e-02],\n",
       "       [1.45723931e-02],\n",
       "       [1.54577018e-02],\n",
       "       [1.73872807e-02],\n",
       "       [1.84448015e-02],\n",
       "       [2.20041245e-02],\n",
       "       [2.62520048e-02],\n",
       "       [3.42058644e-02],\n",
       "       [5.01217763e-02],\n",
       "       [8.02028213e-02],\n",
       "       [1.28324751e-01],\n",
       "       [1.93598497e-01],\n",
       "       [3.28437735e-01],\n",
       "       [5.73792142e-01],\n",
       "       [1.19552602e+00],\n",
       "       [2.02813082e+00],\n",
       "       [3.34115444e+00],\n",
       "       [5.34481306e+00],\n",
       "       [8.55060336e+00],\n",
       "       [1.08164669e+01],\n",
       "       [1.21662862e+01],\n",
       "       [1.08196359e+01],\n",
       "       [8.55561445e+00],\n",
       "       [6.76490172e+00],\n",
       "       [4.10719876e+00],\n",
       "       [2.09080209e+00],\n",
       "       [1.38622735e+00],\n",
       "       [1.03357926e+00],\n",
       "       [7.26694961e-01],\n",
       "       [4.67867850e-01],\n",
       "       [3.38763166e-01],\n",
       "       [2.31296041e-01],\n",
       "       [1.57921120e-01],\n",
       "       [1.24875941e-01],\n",
       "       [9.87455046e-02],\n",
       "       [7.58287125e-02],\n",
       "       [6.17499852e-02],\n",
       "       [4.88350863e-02],\n",
       "       [3.97720102e-02],\n",
       "       [3.43509081e-02],\n",
       "       [3.14619568e-02],\n",
       "       [3.05606418e-02],\n",
       "       [3.43923021e-02],\n",
       "       [3.98419765e-02],\n",
       "       [5.03998841e-02],\n",
       "       [6.96257113e-02],\n",
       "       [9.90416407e-02],\n",
       "       [2.00394555e-01],\n",
       "       [3.02268334e-01],\n",
       "       [4.05426002e-01],\n",
       "       [5.12778235e-01],\n",
       "       [7.08270269e-01],\n",
       "       [9.22472317e-01],\n",
       "       [1.70894301e+00],\n",
       "       [8.20366581e-01],\n",
       "       [4.56050014e-01],\n",
       "       [2.53531031e-01],\n",
       "       [1.40945032e-01],\n",
       "       [8.55752420e-02],\n",
       "       [6.38116344e-02],\n",
       "       [5.51156184e-02],\n",
       "       [5.51335608e-02],\n",
       "       [6.20219175e-02],\n",
       "       [7.18473379e-02],\n",
       "       [8.82626851e-02],\n",
       "       [1.14982148e-01],\n",
       "       [1.83965788e-01],\n",
       "       [2.61688866e-01],\n",
       "       [3.94748285e-01],\n",
       "       [5.14148672e-01],\n",
       "       [7.31345786e-01],\n",
       "       [9.24967796e-01],\n",
       "       [1.31566864e+00],\n",
       "       [1.71356606e+00],\n",
       "       [2.16729903e+00],\n",
       "       [3.89903138e+00],\n",
       "       [2.10486816e+00],\n",
       "       [1.04046503e+00],\n",
       "       [4.99468227e-01],\n",
       "       [2.77686513e-01],\n",
       "       [1.78800303e-01],\n",
       "       [1.45627067e-01],\n",
       "       [1.41459781e-01],\n",
       "       [1.54554739e-01],\n",
       "       [1.79079869e-01],\n",
       "       [2.01473681e-01],\n",
       "       [2.40368029e-01],\n",
       "       [2.86761568e-01],\n",
       "       [3.73584082e-01],\n",
       "       [5.01112898e-01],\n",
       "       [7.34016752e-01],\n",
       "       [1.04409500e+00],\n",
       "       [1.99182235e+00],\n",
       "       [4.40090368e+00],\n",
       "       [1.99208169e+00],\n",
       "       [1.04426494e+00],\n",
       "       [6.52876850e-01],\n",
       "       [5.16244802e-01],\n",
       "       [5.16345631e-01],\n",
       "       [6.72635294e-01],\n",
       "       [8.50796917e-01],\n",
       "       [1.04494495e+00],\n",
       "       [1.32163459e+00],\n",
       "       [1.77273769e+00],\n",
       "       [3.28411774e+00],\n",
       "       [5.25340099e+00],\n",
       "       [7.92430939e+00],\n",
       "       [1.23088829e+01],\n",
       "       [3.98338259e+01],\n",
       "       [1.23100849e+01],\n",
       "       [7.69604300e+00],\n",
       "       [4.81142725e+00],\n",
       "       [3.00791961e+00],\n",
       "       [2.05370586e+00],\n",
       "       [1.28398165e+00],\n",
       "       [9.85963934e-01],\n",
       "       [9.57562414e-01],\n",
       "       [1.10907752e+00],\n",
       "       [1.62459993e+00],\n",
       "       [2.59868792e+00],\n",
       "       [4.53970263e+00],\n",
       "       [2.67628821e+00],\n",
       "       [2.05484255e+00],\n",
       "       [1.53215256e+00],\n",
       "       [2.05517699e+00],\n",
       "       [3.01027023e+00],\n",
       "       [4.15777302e+00],\n",
       "       [5.25887559e+00],\n",
       "       [7.48019305e+00],\n",
       "       [1.19656044e+01],\n",
       "       [4.10647311e+01],\n",
       "       [1.19667729e+01],\n",
       "       [6.09138405e+00],\n",
       "       [4.28262658e+00],\n",
       "       [3.01105418e+00],\n",
       "       [2.38083258e+00],\n",
       "       [1.99649569e+00],\n",
       "       [3.01164228e+00],\n",
       "       [6.85243821e+00],\n",
       "       [3.59210216e+00],\n",
       "       [2.52555623e+00],\n",
       "       [3.59256986e+00],\n",
       "       [4.81863654e+00],\n",
       "       [3.01262269e+00],\n",
       "       [4.16156401e+00],\n",
       "       [6.09634276e+00],\n",
       "       [9.75257911e+00],\n",
       "       [2.03206714e+01],\n",
       "       [4.11128772e+01],\n",
       "       [6.77251829e+01],\n",
       "       [1.05201405e+02],\n",
       "       [1.94892792e+02],\n",
       "       [3.21046613e+02],\n",
       "       [6.88802537e+02],\n",
       "       [2.36382295e+03],\n",
       "       [7.09394189e+02],\n",
       "       [2.46538326e+02],\n",
       "       [1.37053129e+02],\n",
       "       [6.77472302e+01],\n",
       "       [3.65729264e+01],\n",
       "       [1.86183442e+01],\n",
       "       [1.03507981e+01],\n",
       "       [7.27797354e+00],\n",
       "       [6.47218549e+00],\n",
       "       [1.03531567e+01],\n",
       "       [3.25364244e+01],\n",
       "       [1.03541677e+01],\n",
       "       [7.27963196e+00],\n",
       "       [5.11820628e+00],\n",
       "       [4.04721563e+00],\n",
       "       [3.49522081e+00],\n",
       "       [3.39486952e+00],\n",
       "       [4.29435175e+00],\n",
       "       [6.10885661e+00],\n",
       "       [8.19421113e+00],\n",
       "       [1.09910765e+01],\n",
       "       [1.51808303e+01],\n",
       "       [3.07149264e+01],\n",
       "       [5.85949332e+01],\n",
       "       [1.08551119e+02],\n",
       "       [4.06836669e+02],\n",
       "       [1.01084602e+03],\n",
       "       [1.57025611e+03],\n",
       "       [1.45611494e+02],\n",
       "       [6.03525132e+01],\n",
       "       [3.16372634e+01],\n",
       "       [2.03690121e+01],\n",
       "       [1.03693446e+01],\n",
       "       [7.07983806e+00],\n",
       "       [5.12637579e+00],\n",
       "       [4.55895240e+00],\n",
       "       [6.48483757e+00],\n",
       "       [4.29952659e+00],\n",
       "       [4.30022637e+00],\n",
       "       [4.56103031e+00],\n",
       "       [5.28255024e+00],\n",
       "       [8.20622197e+00],\n",
       "       [1.13344005e+01],\n",
       "       [2.36142804e+01],\n",
       "       [6.99772149e+01],\n",
       "       [1.39217659e+01],\n",
       "       [9.50500192e+00],\n",
       "       [6.88216670e+00],\n",
       "       [8.96470621e+00],\n",
       "       [2.03982044e+01],\n",
       "       [4.00731061e+01],\n",
       "       [9.66868563e+01],\n",
       "       [1.95617299e+02],\n",
       "       [2.95072088e+02],\n",
       "       [5.96952364e+02],\n",
       "       [1.28075577e+03],\n",
       "       [3.95786715e+02],\n",
       "       [1.33565228e+02],\n",
       "       [3.67017166e+01]])"
      ]
     },
     "execution_count": 5,
     "metadata": {},
     "output_type": "execute_result"
    }
   ],
   "source": [
    "y"
   ]
  },
  {
   "cell_type": "markdown",
   "metadata": {
    "colab_type": "text",
    "id": "v4S2fyIBYDcu"
   },
   "source": [
    "## Training the Random Forest Regression model on the whole dataset"
   ]
  },
  {
   "cell_type": "code",
   "execution_count": 9,
   "metadata": {
    "colab": {
     "base_uri": "https://localhost:8080/",
     "height": 139
    },
    "colab_type": "code",
    "id": "o8dOCoJ1YKMc",
    "outputId": "8894f460-d2de-44ab-d79b-9e69dffb12cb"
   },
   "outputs": [
    {
     "name": "stderr",
     "output_type": "stream",
     "text": [
      "<ipython-input-9-58122acd7f8c>:3: DataConversionWarning: A column-vector y was passed when a 1d array was expected. Please change the shape of y to (n_samples,), for example using ravel().\n",
      "  regressor.fit(X, y)\n"
     ]
    },
    {
     "data": {
      "text/plain": [
       "RandomForestRegressor(n_estimators=5, random_state=0)"
      ]
     },
     "execution_count": 9,
     "metadata": {},
     "output_type": "execute_result"
    }
   ],
   "source": [
    "from sklearn.ensemble import RandomForestRegressor\n",
    "regressor = RandomForestRegressor(n_estimators = 5, random_state = 0)\n",
    "regressor.fit(X, y)"
   ]
  },
  {
   "cell_type": "markdown",
   "metadata": {
    "colab_type": "text",
    "id": "8IbsXbK3YM4M"
   },
   "source": [
    "## Predicting a new result"
   ]
  },
  {
   "cell_type": "code",
   "execution_count": 32,
   "metadata": {
    "colab": {
     "base_uri": "https://localhost:8080/",
     "height": 35
    },
    "colab_type": "code",
    "id": "pTXrS8FEYQlJ",
    "outputId": "6bfe8b5e-125c-43ce-ee32-d2f53477e0ee"
   },
   "outputs": [
    {
     "data": {
      "text/plain": [
       "array([4.35238716])"
      ]
     },
     "execution_count": 32,
     "metadata": {},
     "output_type": "execute_result"
    }
   ],
   "source": [
    "regressor.predict([[880]])"
   ]
  },
  {
   "cell_type": "markdown",
   "metadata": {
    "colab_type": "text",
    "id": "kLqF9yMbYTon"
   },
   "source": [
    "## Visualising the Random Forest Regression results (higher resolution)"
   ]
  },
  {
   "cell_type": "code",
   "execution_count": 11,
   "metadata": {
    "colab": {
     "base_uri": "https://localhost:8080/",
     "height": 295
    },
    "colab_type": "code",
    "id": "BMlTBifVYWNr",
    "outputId": "71439b75-32b1-444b-a9ee-7ae0672cea82"
   },
   "outputs": [
    {
     "data": {
      "image/png": "[encoded data removed]",
      "text/plain": [
       "<Figure size 432x288 with 1 Axes>"
      ]
     },
     "metadata": {
      "needs_background": "light"
     },
     "output_type": "display_data"
    }
   ],
   "source": [
    "X_grid = np.arange(min(X), max(X), 0.1)\n",
    "X_grid = X_grid.reshape((len(X_grid), 1))\n",
    "plt.scatter(X, y, color = 'red')\n",
    "plt.plot(X_grid, regressor.predict(X_grid), color = 'blue')\n",
    "#plt.title('Power loss (Random Forest Regression)')\n",
    "\n",
    "\n",
    "\n",
    "\n",
    "plt.legend(['Randon forest prediction','Data points'])\n",
    "\n",
    "plt.xlabel('Distance d_0')\n",
    "plt.ylabel('PL (dB)')\n",
    "plt.savefig(\"model-PL1.png\")\n",
    "plt.show()\n"
   ]
  },
  {
   "cell_type": "code",
   "execution_count": 102,
   "metadata": {},
   "outputs": [
    {
     "data": {
      "text/plain": [
       "(None, (999, 1))"
      ]
     },
     "execution_count": 102,
     "metadata": {},
     "output_type": "execute_result"
    }
   ],
   "source": [
    "import pandas as pd\n",
    "import math\n",
    "\n",
    "#np.log(X)\n",
    "df = pd.DataFrame(np.log10(X))     \n",
    "# saving the dataframe\n",
    "df.to_csv('glog.csv'), df.shape"
   ]
  },
  {
   "cell_type": "code",
   "execution_count": 53,
   "metadata": {},
   "outputs": [
    {
     "data": {
      "text/plain": [
       "0.9996236899924444"
      ]
     },
     "execution_count": 53,
     "metadata": {},
     "output_type": "execute_result"
    }
   ],
   "source": [
    "regressor.score(X,y)"
   ]
  },
  {
   "cell_type": "code",
   "execution_count": 114,
   "metadata": {},
   "outputs": [
    {
     "data": {
      "text/plain": [
       "array([[10],\n",
       "       [10],\n",
       "       [10],\n",
       "       [10]])"
      ]
     },
     "execution_count": 114,
     "metadata": {},
     "output_type": "execute_result"
    }
   ],
   "source": [
    "np.full((4,1),10)"
   ]
  },
  {
   "cell_type": "code",
   "execution_count": null,
   "metadata": {},
   "outputs": [],
   "source": []
  }
 ],
 "metadata": {
  "colab": {
   "name": "random_forest_regression.ipynb",
   "provenance": [],
   "toc_visible": true
  },
  "kernelspec": {
   "display_name": "Python 3",
   "language": "python",
   "name": "python3"
  },
  "language_info": {
   "codemirror_mode": {
    "name": "ipython",
    "version": 3
   },
   "file_extension": ".py",
   "mimetype": "text/x-python",
   "name": "python",
   "nbconvert_exporter": "python",
   "pygments_lexer": "ipython3",
   "version": "3.8.8"
  }
 },
 "nbformat": 4,
 "nbformat_minor": 1
}
